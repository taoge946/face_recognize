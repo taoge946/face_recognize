{
 "cells": [
  {
   "cell_type": "code",
   "execution_count": 1,
   "metadata": {},
   "outputs": [],
   "source": [
    "import cv2 \n",
    "import numpy as np\n",
    "import datetime\n",
    "import matplotlib.pyplot as plt"
   ]
  },
  {
   "cell_type": "code",
   "execution_count": 8,
   "metadata": {},
   "outputs": [],
   "source": [
    "cap = cv2.VideoCapture(0,cv2.CAP_DSHOW)"
   ]
  },
  {
   "cell_type": "code",
   "execution_count": 9,
   "metadata": {},
   "outputs": [],
   "source": [
    "while(1):\n",
    "    # get a frame\n",
    "    ret, frame = cap.read()\n",
    "    # show a frame\n",
    "    cv2.imshow(\"capture\", frame)\n",
    "    if cv2.waitKey(50) & 0xFF == ord('q'):\n",
    "        break\n",
    "cap.release()\n",
    "cv2.destroyAllWindows()"
   ]
  },
  {
   "cell_type": "code",
   "execution_count": 14,
   "metadata": {},
   "outputs": [],
   "source": [
    "cap.release()"
   ]
  },
  {
   "cell_type": "code",
   "execution_count": 20,
   "metadata": {},
   "outputs": [
    {
     "data": {
      "text/plain": [
       "datetime.datetime(2021, 4, 13, 10, 15, 2, 26772)"
      ]
     },
     "execution_count": 20,
     "metadata": {},
     "output_type": "execute_result"
    }
   ],
   "source": [
    "datetime.datetime.now()"
   ]
  },
  {
   "cell_type": "code",
   "execution_count": 23,
   "metadata": {},
   "outputs": [
    {
     "data": {
      "text/plain": [
       "'2021-04-13 10:25:37'"
      ]
     },
     "execution_count": 23,
     "metadata": {},
     "output_type": "execute_result"
    }
   ],
   "source": [
    "datetime.datetime.now().strftime('%Y-%m-%d %H:%M:%S')"
   ]
  },
  {
   "cell_type": "code",
   "execution_count": 22,
   "metadata": {},
   "outputs": [
    {
     "name": "stdout",
     "output_type": "stream",
     "text": [
      "F:/python/2021-04-13.jpg\n"
     ]
    }
   ],
   "source": [
    "print('F:/python/'+datetime.datetime.now().strftime('%Y-%m-%d')+'.jpg')"
   ]
  },
  {
   "cell_type": "code",
   "execution_count": 24,
   "metadata": {},
   "outputs": [],
   "source": [
    "cap = cv2.VideoCapture(0,cv2.CAP_DSHOW)\n",
    "while(1):\n",
    "    # get a frame\n",
    "    ret, frame = cap.read()\n",
    "    # show a frame\n",
    "    cv2.imshow(\"capture\", frame)\n",
    "    if cv2.waitKey(10) & 0xFF == ord('s'):\n",
    "        cv2.imwrite('F:/python/picture/'+datetime.datetime.now().strftime('%Y-%m-%d %H:%M:%S')+'.jpg',frame)\n",
    "        break\n",
    "    if cv2.waitKey(10) & 0xFF == ord('q'):\n",
    "        break\n",
    "cap.release()\n",
    "cv2.destroyAllWindows()"
   ]
  },
  {
   "cell_type": "code",
   "execution_count": 11,
   "metadata": {},
   "outputs": [],
   "source": [
    "img=cv2.imread('F:/python/tao.jpg')"
   ]
  },
  {
   "cell_type": "code",
   "execution_count": 9,
   "metadata": {},
   "outputs": [],
   "source": [
    "cv2.imshow('img',img)\n",
    "cv2.waitKey(0)\n",
    "cv2.imwrite('F:/python/picture/'+datetime.datetime.now().strftime('%Y-%m-%d %H.%M.%S')+'.jpg',img)\n",
    "cv2.destroyAllWindows()"
   ]
  },
  {
   "cell_type": "code",
   "execution_count": 56,
   "metadata": {},
   "outputs": [
    {
     "data": {
      "text/plain": [
       "<matplotlib.image.AxesImage at 0x1ab6f550>"
      ]
     },
     "execution_count": 56,
     "metadata": {},
     "output_type": "execute_result"
    },
    {
     "data": {
      "image/png": "[encoded data removed]",
      "text/plain": [
       "<Figure size 432x288 with 1 Axes>"
      ]
     },
     "metadata": {
      "needs_background": "light"
     },
     "output_type": "display_data"
    }
   ],
   "source": [
    "img=np.ones((512,512,3),np.uint8)*255\n",
    "plt.imshow(img)"
   ]
  },
  {
   "cell_type": "code",
   "execution_count": 55,
   "metadata": {},
   "outputs": [
    {
     "data": {
      "text/plain": [
       "<matplotlib.image.AxesImage at 0x1b02edc0>"
      ]
     },
     "execution_count": 55,
     "metadata": {},
     "output_type": "execute_result"
    },
    {
     "data": {
      "image/png": "[encoded data removed]",
      "text/plain": [
       "<Figure size 432x288 with 1 Axes>"
      ]
     },
     "metadata": {
      "needs_background": "light"
     },
     "output_type": "display_data"
    }
   ],
   "source": [
    "cv2.line(img,(0,0),(511,511),(0,0,255),15)\n",
    "cv2.rectangle(img,(100,100),(411,411),(255,0,0),5)\n",
    "cv2.circle(img,(256,256),100,(0,255,0),-1)\n",
    "cv2.putText(img,'AAA',(10,10),cv2.FONT_HERSHEY_DUPLEX,5,(255,255,255),10)\n",
    "plt.imshow(img)"
   ]
  },
  {
   "cell_type": "code",
   "execution_count": 44,
   "metadata": {},
   "outputs": [
    {
     "data": {
      "text/plain": [
       "<matplotlib.image.AxesImage at 0x1d6a0bb0>"
      ]
     },
     "execution_count": 44,
     "metadata": {},
     "output_type": "execute_result"
    },
    {
     "data": {
      "image/png": "[encoded data removed]",
      "text/plain": [
       "<Figure size 432x288 with 1 Axes>"
      ]
     },
     "metadata": {
      "needs_background": "light"
     },
     "output_type": "display_data"
    }
   ],
   "source": [
    "cv2.putText(img,'AAA',(10,100),cv2.FONT_HERSHEY_DUPLEX,5,(255,0,0))\n",
    "plt.imshow(img)"
   ]
  },
  {
   "cell_type": "code",
   "execution_count": 59,
   "metadata": {},
   "outputs": [],
   "source": [
    "import sys"
   ]
  },
  {
   "cell_type": "code",
   "execution_count": 61,
   "metadata": {},
   "outputs": [
    {
     "data": {
      "text/plain": [
       "'3.8.5 (default, Sep  3 2020, 21:29:08) [MSC v.1916 64 bit (AMD64)]'"
      ]
     },
     "execution_count": 61,
     "metadata": {},
     "output_type": "execute_result"
    }
   ],
   "source": [
    "sys.version"
   ]
  },
  {
   "cell_type": "code",
   "execution_count": 69,
   "metadata": {},
   "outputs": [
    {
     "data": {
      "text/plain": [
       "<matplotlib.image.AxesImage at 0x1b2e7ca0>"
      ]
     },
     "execution_count": 69,
     "metadata": {},
     "output_type": "execute_result"
    },
    {
     "data": {
      "image/png": "[encoded data removed]",
      "text/plain": [
       "<Figure size 432x288 with 1 Axes>"
      ]
     },
     "metadata": {
      "needs_background": "light"
     },
     "output_type": "display_data"
    }
   ],
   "source": [
    "#标准人脸特征（112*96的脸）\n",
    "REFERENCE_FACIAL_POINTS = np.array([\n",
    "    [30.29459953,  51.69630051],\n",
    "    [65.53179932,  51.50139999],\n",
    "    [48.02519989,  71.73660278],\n",
    "    [33.54930115,  92.3655014],\n",
    "    [62.72990036,  92.20410156]\n",
    "])\n",
    "white=np.ones((112,96,3),np.uint8)*255\n",
    "plt.imshow(white)"
   ]
  },
  {
   "cell_type": "code",
   "execution_count": 84,
   "metadata": {},
   "outputs": [],
   "source": [
    "pic_name='text.png'"
   ]
  },
  {
   "cell_type": "code",
   "execution_count": 85,
   "metadata": {},
   "outputs": [],
   "source": [
    "image=cv2.imread('F:/python/picture/'+pic_name)"
   ]
  },
  {
   "cell_type": "code",
   "execution_count": 86,
   "metadata": {},
   "outputs": [],
   "source": [
    "cv2.imshow('image',image)\n",
    "cv2.waitKey(0)\n",
    "cv2.destroyAllWindows()"
   ]
  },
  {
   "cell_type": "code",
   "execution_count": 20,
   "metadata": {},
   "outputs": [
    {
     "data": {
      "text/plain": [
       "(480, 640, 3)"
      ]
     },
     "execution_count": 20,
     "metadata": {},
     "output_type": "execute_result"
    }
   ],
   "source": [
    "image.shape"
   ]
  },
  {
   "cell_type": "code",
   "execution_count": 87,
   "metadata": {},
   "outputs": [],
   "source": [
    "img=image[78:311,92:315,]"
   ]
  },
  {
   "cell_type": "code",
   "execution_count": 24,
   "metadata": {},
   "outputs": [
    {
     "data": {
      "text/plain": [
       "(233, 223, 3)"
      ]
     },
     "execution_count": 24,
     "metadata": {},
     "output_type": "execute_result"
    }
   ],
   "source": [
    "img.shape"
   ]
  },
  {
   "cell_type": "code",
   "execution_count": 39,
   "metadata": {},
   "outputs": [],
   "source": [
    "width=rc[1]-lc[1]\n",
    "high=rc[0]-lc[0]\n",
    "le_x=(le[0]-lc[0])\n",
    "le_y=(le[1]-lc[1])\n",
    "re_x=(re[0]-lc[0])\n",
    "re_y=(re[1]-lc[1])\n",
    "n_x=(n[0]-lc[0])\n",
    "n_y=(n[1]-lc[1])\n",
    "lm_x=(lm[0]-lc[0])\n",
    "lm_y=(lm[1]-lc[1])\n",
    "rm_x=(rm[0]-lc[0])\n",
    "rm_y=(rm[1]-lc[1])"
   ]
  },
  {
   "cell_type": "code",
   "execution_count": 71,
   "metadata": {
    "scrolled": true
   },
   "outputs": [
    {
     "data": {
      "text/plain": [
       "array([[30.29459953, 51.69630051],\n",
       "       [65.53179932, 51.50139999],\n",
       "       [48.02519989, 71.73660278],\n",
       "       [33.54930115, 92.3655014 ],\n",
       "       [62.72990036, 92.20410156]])"
      ]
     },
     "execution_count": 71,
     "metadata": {},
     "output_type": "execute_result"
    }
   ],
   "source": [
    "REFERENCE_FACIAL_POINTS"
   ]
  },
  {
   "cell_type": "code",
   "execution_count": 54,
   "metadata": {},
   "outputs": [],
   "source": [
    "REFERENCE_FACIAL_POINTS=REFERENCE_FACIAL_POINTS*[high/112,width/96]"
   ]
  },
  {
   "cell_type": "code",
   "execution_count": 72,
   "metadata": {},
   "outputs": [
    {
     "ename": "TypeError",
     "evalue": "only size-1 arrays can be converted to Python scalars",
     "output_type": "error",
     "traceback": [
      "\u001b[1;31m---------------------------------------------------------------------------\u001b[0m",
      "\u001b[1;31mTypeError\u001b[0m                                 Traceback (most recent call last)",
      "\u001b[1;32m<ipython-input-72-ce7723159ee1>\u001b[0m in \u001b[0;36m<module>\u001b[1;34m\u001b[0m\n\u001b[1;32m----> 1\u001b[1;33m \u001b[0mcv2\u001b[0m\u001b[1;33m.\u001b[0m\u001b[0mcircle\u001b[0m\u001b[1;33m(\u001b[0m\u001b[0mwhite\u001b[0m\u001b[1;33m,\u001b[0m\u001b[0mint\u001b[0m\u001b[1;33m(\u001b[0m\u001b[0mREFERENCE_FACIAL_POINTS\u001b[0m\u001b[1;33m[\u001b[0m\u001b[1;36m0\u001b[0m\u001b[1;33m]\u001b[0m\u001b[1;33m)\u001b[0m\u001b[1;33m,\u001b[0m\u001b[1;36m5\u001b[0m\u001b[1;33m,\u001b[0m\u001b[1;33m(\u001b[0m\u001b[1;36m255\u001b[0m\u001b[1;33m,\u001b[0m\u001b[1;36m0\u001b[0m\u001b[1;33m,\u001b[0m\u001b[1;36m0\u001b[0m\u001b[1;33m)\u001b[0m\u001b[1;33m,\u001b[0m\u001b[1;33m-\u001b[0m\u001b[1;36m1\u001b[0m\u001b[1;33m)\u001b[0m\u001b[1;33m\u001b[0m\u001b[1;33m\u001b[0m\u001b[0m\n\u001b[0m\u001b[0;32m      2\u001b[0m \u001b[0mcv2\u001b[0m\u001b[1;33m.\u001b[0m\u001b[0mcircle\u001b[0m\u001b[1;33m(\u001b[0m\u001b[0mwhite\u001b[0m\u001b[1;33m,\u001b[0m\u001b[0mREFERENCE_FACIAL_POINTS\u001b[0m\u001b[1;33m[\u001b[0m\u001b[1;36m1\u001b[0m\u001b[1;33m]\u001b[0m\u001b[1;33m,\u001b[0m\u001b[1;36m5\u001b[0m\u001b[1;33m,\u001b[0m\u001b[1;33m(\u001b[0m\u001b[1;36m255\u001b[0m\u001b[1;33m,\u001b[0m\u001b[1;36m0\u001b[0m\u001b[1;33m,\u001b[0m\u001b[1;36m0\u001b[0m\u001b[1;33m)\u001b[0m\u001b[1;33m,\u001b[0m\u001b[1;33m-\u001b[0m\u001b[1;36m1\u001b[0m\u001b[1;33m)\u001b[0m\u001b[1;33m\u001b[0m\u001b[1;33m\u001b[0m\u001b[0m\n\u001b[0;32m      3\u001b[0m \u001b[0mcv2\u001b[0m\u001b[1;33m.\u001b[0m\u001b[0mcircle\u001b[0m\u001b[1;33m(\u001b[0m\u001b[0mwhite\u001b[0m\u001b[1;33m,\u001b[0m\u001b[0mREFERENCE_FACIAL_POINTS\u001b[0m\u001b[1;33m[\u001b[0m\u001b[1;36m2\u001b[0m\u001b[1;33m]\u001b[0m\u001b[1;33m,\u001b[0m\u001b[1;36m5\u001b[0m\u001b[1;33m,\u001b[0m\u001b[1;33m(\u001b[0m\u001b[1;36m255\u001b[0m\u001b[1;33m,\u001b[0m\u001b[1;36m0\u001b[0m\u001b[1;33m,\u001b[0m\u001b[1;36m0\u001b[0m\u001b[1;33m)\u001b[0m\u001b[1;33m,\u001b[0m\u001b[1;33m-\u001b[0m\u001b[1;36m1\u001b[0m\u001b[1;33m)\u001b[0m\u001b[1;33m\u001b[0m\u001b[1;33m\u001b[0m\u001b[0m\n\u001b[0;32m      4\u001b[0m \u001b[0mcv2\u001b[0m\u001b[1;33m.\u001b[0m\u001b[0mcircle\u001b[0m\u001b[1;33m(\u001b[0m\u001b[0mwhite\u001b[0m\u001b[1;33m,\u001b[0m\u001b[0mREFERENCE_FACIAL_POINTS\u001b[0m\u001b[1;33m[\u001b[0m\u001b[1;36m3\u001b[0m\u001b[1;33m]\u001b[0m\u001b[1;33m,\u001b[0m\u001b[1;36m5\u001b[0m\u001b[1;33m,\u001b[0m\u001b[1;33m(\u001b[0m\u001b[1;36m255\u001b[0m\u001b[1;33m,\u001b[0m\u001b[1;36m0\u001b[0m\u001b[1;33m,\u001b[0m\u001b[1;36m0\u001b[0m\u001b[1;33m)\u001b[0m\u001b[1;33m,\u001b[0m\u001b[1;33m-\u001b[0m\u001b[1;36m1\u001b[0m\u001b[1;33m)\u001b[0m\u001b[1;33m\u001b[0m\u001b[1;33m\u001b[0m\u001b[0m\n\u001b[0;32m      5\u001b[0m \u001b[0mcv2\u001b[0m\u001b[1;33m.\u001b[0m\u001b[0mcircle\u001b[0m\u001b[1;33m(\u001b[0m\u001b[0mwhite\u001b[0m\u001b[1;33m,\u001b[0m\u001b[0mREFERENCE_FACIAL_POINTS\u001b[0m\u001b[1;33m[\u001b[0m\u001b[1;36m4\u001b[0m\u001b[1;33m]\u001b[0m\u001b[1;33m,\u001b[0m\u001b[1;36m5\u001b[0m\u001b[1;33m,\u001b[0m\u001b[1;33m(\u001b[0m\u001b[1;36m255\u001b[0m\u001b[1;33m,\u001b[0m\u001b[1;36m0\u001b[0m\u001b[1;33m,\u001b[0m\u001b[1;36m0\u001b[0m\u001b[1;33m)\u001b[0m\u001b[1;33m,\u001b[0m\u001b[1;33m-\u001b[0m\u001b[1;36m1\u001b[0m\u001b[1;33m)\u001b[0m\u001b[1;33m\u001b[0m\u001b[1;33m\u001b[0m\u001b[0m\n",
      "\u001b[1;31mTypeError\u001b[0m: only size-1 arrays can be converted to Python scalars"
     ]
    }
   ],
   "source": [
    "cv2.circle(white,REFERENCE_FACIAL_POINTS[0],5,(255,0,0),-1)\n",
    "cv2.circle(white,REFERENCE_FACIAL_POINTS[1],5,(255,0,0),-1)\n",
    "cv2.circle(white,REFERENCE_FACIAL_POINTS[2],5,(255,0,0),-1)\n",
    "cv2.circle(white,REFERENCE_FACIAL_POINTS[3],5,(255,0,0),-1)\n",
    "cv2.circle(white,REFERENCE_FACIAL_POINTS[4],5,(255,0,0),-1)"
   ]
  },
  {
   "cell_type": "code",
   "execution_count": 36,
   "metadata": {
    "scrolled": true
   },
   "outputs": [
    {
     "data": {
      "text/plain": [
       "array([[[220, 216, 215],\n",
       "        [220, 216, 215],\n",
       "        [220, 216, 215],\n",
       "        ...,\n",
       "        [239, 236, 232],\n",
       "        [240, 237, 233],\n",
       "        [240, 237, 233]],\n",
       "\n",
       "       [[219, 215, 214],\n",
       "        [219, 215, 214],\n",
       "        [218, 214, 213],\n",
       "        ...,\n",
       "        [238, 235, 231],\n",
       "        [239, 236, 232],\n",
       "        [240, 237, 233]],\n",
       "\n",
       "       [[216, 214, 213],\n",
       "        [215, 213, 212],\n",
       "        [216, 212, 211],\n",
       "        ...,\n",
       "        [238, 235, 231],\n",
       "        [238, 235, 231],\n",
       "        [239, 236, 232]],\n",
       "\n",
       "       ...,\n",
       "\n",
       "       [[143, 154, 214],\n",
       "        [144, 155, 215],\n",
       "        [146, 157, 217],\n",
       "        ...,\n",
       "        [146, 159, 205],\n",
       "        [145, 158, 202],\n",
       "        [145, 159, 201]],\n",
       "\n",
       "       [[143, 154, 214],\n",
       "        [144, 155, 215],\n",
       "        [146, 157, 217],\n",
       "        ...,\n",
       "        [147, 160, 204],\n",
       "        [148, 162, 204],\n",
       "        [148, 162, 204]],\n",
       "\n",
       "       [[144, 156, 214],\n",
       "        [145, 157, 215],\n",
       "        [147, 159, 217],\n",
       "        ...,\n",
       "        [153, 165, 207],\n",
       "        [154, 166, 206],\n",
       "        [156, 168, 208]]], dtype=uint8)"
      ]
     },
     "execution_count": 36,
     "metadata": {},
     "output_type": "execute_result"
    }
   ],
   "source": [
    "cv2.circle(img,(int(le_x),int(le_y)),5,(255,0,0),-1)\n",
    "cv2.circle(img,(int(re_x),int(re_y)),5,(255,0,0),-1)\n",
    "cv2.circle(img,(int(n_x),int(n_y)),5,(255,0,0),-1)\n",
    "cv2.circle(img,(int(lm_x),int(lm_y)),5,(255,0,0),-1)\n",
    "cv2.circle(img,(int(rm_x),int(rm_y)),5,(255,0,0),-1)"
   ]
  },
  {
   "cell_type": "code",
   "execution_count": 97,
   "metadata": {},
   "outputs": [],
   "source": [
    "cv2.imshow('image',img)\n",
    "cv2.waitKey(0)\n",
    "cv2.destroyAllWindows()"
   ]
  },
  {
   "cell_type": "code",
   "execution_count": 98,
   "metadata": {},
   "outputs": [],
   "source": [
    "img_fix=cv2.resize(img,(96,112))"
   ]
  },
  {
   "cell_type": "code",
   "execution_count": 99,
   "metadata": {},
   "outputs": [],
   "source": [
    "cv2.imshow('image',img_fix)\n",
    "if cv2.waitKey(0)&0xff ==ord('s'):\n",
    "    cv2.imwrite('F:/python/face/'+pic_dir,img_fix)\n",
    "    cv2.destroyAllWindows()"
   ]
  },
  {
   "cell_type": "code",
   "execution_count": 7,
   "metadata": {},
   "outputs": [],
   "source": [
    "#人脸1\n",
    "lc=[438,56]\n",
    "rc=[567,243]\n",
    "le=[455,136]\n",
    "re=[506,128]\n",
    "n=[470,165]\n",
    "lm=[471,198]\n",
    "rm=[512,191]"
   ]
  },
  {
   "cell_type": "code",
   "execution_count": 89,
   "metadata": {},
   "outputs": [],
   "source": [
    "#测试人脸坐标：\n",
    "lc=[92 ,78]\n",
    "rc=[315 ,311]\n",
    "le=[161, 231]\n",
    "re=[ 229 ,163]\n",
    "n=[233 ,237]\n",
    "lm=[227 ,282]\n",
    "rm=[296 ,221]"
   ]
  },
  {
   "cell_type": "code",
   "execution_count": 90,
   "metadata": {},
   "outputs": [],
   "source": [
    "width=rc[1]-lc[1]\n",
    "high=rc[0]-lc[0]\n",
    "    \n",
    "le_x=(le[0]-lc[0])/high*112\n",
    "le_y=(le[1]-lc[1])/width*96\n",
    "re_x=(re[0]-lc[0])/high*112\n",
    "re_y=(re[1]-lc[1])/width*96\n",
    "n_x=(n[0]-lc[0])/high*112\n",
    "n_y=(n[1]-lc[1])/width*96\n",
    "lm_x=(lm[0]-lc[0])/high*112\n",
    "lm_y=(lm[1]-lc[1])/width*96\n",
    "rm_x=(rm[0]-lc[0])/high*112\n",
    "rm_y=(rm[1]-lc[1])/width*96"
   ]
  },
  {
   "cell_type": "code",
   "execution_count": 91,
   "metadata": {},
   "outputs": [
    {
     "data": {
      "text/plain": [
       "array([[[219, 215, 214],\n",
       "        [218, 214, 213],\n",
       "        [219, 217, 216],\n",
       "        ...,\n",
       "        [238, 234, 231],\n",
       "        [238, 235, 231],\n",
       "        [240, 237, 232]],\n",
       "\n",
       "       [[215, 213, 212],\n",
       "        [216, 212, 211],\n",
       "        [220, 215, 215],\n",
       "        ...,\n",
       "        [236, 233, 229],\n",
       "        [237, 234, 230],\n",
       "        [239, 236, 232]],\n",
       "\n",
       "       [[218, 214, 213],\n",
       "        [217, 212, 213],\n",
       "        [218, 214, 216],\n",
       "        ...,\n",
       "        [237, 234, 230],\n",
       "        [238, 235, 231],\n",
       "        [238, 235, 232]],\n",
       "\n",
       "       ...,\n",
       "\n",
       "       [[145, 154, 217],\n",
       "        [146, 155, 218],\n",
       "        [146, 157, 218],\n",
       "        ...,\n",
       "        [139, 153, 203],\n",
       "        [145, 157, 205],\n",
       "        [154, 165, 209]],\n",
       "\n",
       "       [[144, 155, 216],\n",
       "        [146, 157, 218],\n",
       "        [144, 155, 215],\n",
       "        ...,\n",
       "        [137, 151, 200],\n",
       "        [141, 155, 203],\n",
       "        [146, 158, 202]],\n",
       "\n",
       "       [[144, 156, 214],\n",
       "        [147, 159, 218],\n",
       "        [149, 160, 219],\n",
       "        ...,\n",
       "        [146, 159, 205],\n",
       "        [148, 161, 205],\n",
       "        [151, 164, 205]]], dtype=uint8)"
      ]
     },
     "execution_count": 91,
     "metadata": {},
     "output_type": "execute_result"
    }
   ],
   "source": [
    "cv2.circle(img_fix,(int(le_x),int(le_y)),5,(255,0,0),-1)\n",
    "cv2.circle(img_fix,(int(re_x),int(re_y)),5,(255,0,0),-1)\n",
    "cv2.circle(img_fix,(int(n_x),int(n_y)),5,(255,0,0),-1)\n",
    "cv2.circle(img_fix,(int(lm_x),int(lm_y)),5,(255,0,0),-1)\n",
    "cv2.circle(img_fix,(int(rm_x),int(rm_y)),5,(255,0,0),-1)"
   ]
  },
  {
   "cell_type": "code",
   "execution_count": 92,
   "metadata": {},
   "outputs": [],
   "source": [
    "cv2.imshow('image',img_fix)\n",
    "if cv2.waitKey(0)&0xff ==ord('s'):\n",
    "    cv2.imwrite('F:/python/face/'+pic_dir,img_fix)\n",
    "    cv2.destroyAllWindows()"
   ]
  },
  {
   "cell_type": "code",
   "execution_count": 16,
   "metadata": {},
   "outputs": [
    {
     "data": {
      "text/plain": [
       "(14.759689922480622, 41.06951871657754, 59.038759689922486, 36.962566844919785)"
      ]
     },
     "execution_count": 16,
     "metadata": {},
     "output_type": "execute_result"
    }
   ],
   "source": [
    "le_x,le_y,re_x,re_y"
   ]
  },
  {
   "cell_type": "code",
   "execution_count": 100,
   "metadata": {},
   "outputs": [],
   "source": [
    "src=np.float32([[le_x,le_y],[re_x,re_x],[n_x,n_y]])\n",
    "dst=np.float32([[30.29459953, 51.69630051],[65.53179932, 51.50139999],[48.02519989, 71.73660278]])"
   ]
  },
  {
   "cell_type": "code",
   "execution_count": 101,
   "metadata": {},
   "outputs": [],
   "source": [
    "M=cv2.getAffineTransform(src,dst)"
   ]
  },
  {
   "cell_type": "code",
   "execution_count": 102,
   "metadata": {},
   "outputs": [],
   "source": [
    "res = cv2.warpAffine(img,M,(112,112))"
   ]
  },
  {
   "cell_type": "code",
   "execution_count": 104,
   "metadata": {},
   "outputs": [],
   "source": [
    "cv2.imshow('image',res)\n",
    "if cv2.waitKey(0)&0xff ==ord('s'):\n",
    "    cv2.imwrite('F:/python/face/duiqi.jpg',res)\n",
    "    cv2.destroyAllWindows()"
   ]
  },
  {
   "cell_type": "code",
   "execution_count": 80,
   "metadata": {},
   "outputs": [
    {
     "data": {
      "text/plain": [
       "array([[  0.31738   ,  -0.85345997, 138.97475543],\n",
       "       [  0.20479194,   0.88254705, -97.4640417 ]])"
      ]
     },
     "execution_count": 80,
     "metadata": {},
     "output_type": "execute_result"
    }
   ],
   "source": [
    "M"
   ]
  },
  {
   "cell_type": "code",
   "execution_count": null,
   "metadata": {},
   "outputs": [],
   "source": []
  }
 ],
 "metadata": {
  "kernelspec": {
   "name": "python385jvsc74a57bd0485035c5b2a6f2b50dc2dc5ca51aeeb931032fbc9adc2e30c7c528d6bf8a9176",
   "display_name": "Python 3.8.5 64-bit ('base': conda)"
  },
  "language_info": {
   "codemirror_mode": {
    "name": "ipython",
    "version": 3
   },
   "file_extension": ".py",
   "mimetype": "text/x-python",
   "name": "python",
   "nbconvert_exporter": "python",
   "pygments_lexer": "ipython3",
   "version": "3.8.5"
  }
 },
 "nbformat": 4,
 "nbformat_minor": 4
}